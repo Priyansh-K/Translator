{
 "cells": [
  {
   "cell_type": "code",
   "execution_count": 1,
   "metadata": {},
   "outputs": [],
   "source": [
    "import bs4 as bs\n",
    "from urllib.request import Request, urlopen\n",
    "import re\n",
    "import requests\n",
    "import nltk\n",
    "\n",
    "import heapq"
   ]
  },
  {
   "cell_type": "code",
   "execution_count": 2,
   "metadata": {},
   "outputs": [],
   "source": [
    "# text_source = \"https://www.sciencedirect.com/science/article/pii/S0004370215000910\"\n",
    "#text_source = \"https://www.gutenberg.org/cache/epub/70503/pg70503-images.html\"\n",
    "#request_site = Request(text_source, headers={\"User-Agent\": \"Mozilla/5.0\"})\n",
    "#article = urlopen(request_site).read()\n",
    "#parsed_article = bs.BeautifulSoup(article, \"lxml\")\n",
    "#paragraphs = parsed_article.find_all(\"p\")\n",
    "article_text = \"Wikis are enabled by wiki software, otherwise known as wiki engines. A wiki engine, being a form of a content management system, differs from other web-based systems such as blog software, in that the content is created without any defined owner or leader, and wikis have little inherent structure, allowing structure to emerge according to the needs of the users. Wiki engines usually allow content to be written using a simplified markup language and sometimes edited with the help of a rich-text editor. There are dozens of different wiki engines in use, both standalone and part of other software, such as bug tracking systems. Some wiki engines are free and open-source, whereas others are proprietary. Some permit control over different functions; for example, editing rights may permit changing, adding, or removing material. Others may permit access without enforcing access control. Other rules may be imposed to organize content.\""
   ]
  },
  {
   "cell_type": "code",
   "execution_count": 3,
   "metadata": {},
   "outputs": [],
   "source": [
    "#for p in paragraphs:\n",
    "#    article_text += p.text\n",
    "# Remove Square Brackets and Extra Spaces\n",
    "article_text = re.sub(r\"\\[[0-9]*\\]\", \" \", article_text)\n",
    "article_text = re.sub(r\"\\s+\", \" \", article_text)"
   ]
  },
  {
   "cell_type": "code",
   "execution_count": 4,
   "metadata": {},
   "outputs": [],
   "source": [
    "# Remove special characters and digits\n",
    "formatted_article_text = re.sub(\"[^a-zA-Z]\", \" \", article_text)\n",
    "formatted_article_text = re.sub(r\"\\s+\", \" \", formatted_article_text)\n",
    "#print(\"\\n\\n\\n The source of original article used is: \\n\")\n",
    "#print(text_source)"
   ]
  },
  {
   "cell_type": "code",
   "execution_count": 5,
   "metadata": {},
   "outputs": [],
   "source": [
    "sentence_list = nltk.sent_tokenize(article_text)\n",
    "stopwords = nltk.corpus.stopwords.words(\"english\")\n",
    "word_frequencies = {}\n",
    "for word in nltk.word_tokenize(formatted_article_text):\n",
    "    if word not in stopwords:\n",
    "        if word not in word_frequencies.keys():\n",
    "            word_frequencies[word] = 1\n",
    "        else:\n",
    "            word_frequencies[word] += 1\n",
    "maximum_frequncy = max(word_frequencies.values())\n",
    "for word in word_frequencies.keys():\n",
    "    word_frequencies[word] = word_frequencies[word] / maximum_frequncy"
   ]
  },
  {
   "cell_type": "code",
   "execution_count": 6,
   "metadata": {},
   "outputs": [
    {
     "name": "stdout",
     "output_type": "stream",
     "text": [
      "\n",
      "\n",
      "\n",
      "English Language Summary of given text is:\n",
      " \n",
      "Wiki engines usually allow content to be written using a simplified markup language and sometimes edited with the help of a rich-text editor. There are dozens of different wiki engines in use, both standalone and part of other software, such as bug tracking systems. Wikis are enabled by wiki software, otherwise known as wiki engines. Some permit control over different functions; for example, editing rights may permit changing, adding, or removing material. Others may permit access without enforcing access control. Some wiki engines are free and open-source, whereas others are proprietary. Other rules may be imposed to organize content.\n"
     ]
    }
   ],
   "source": [
    "sentence_scores = {}\n",
    "for sent in sentence_list:\n",
    "    for word in nltk.word_tokenize(sent.lower()):\n",
    "        if word in word_frequencies.keys():\n",
    "            if len(sent.split(\" \")) < 30:\n",
    "                if sent not in sentence_scores.keys():\n",
    "                    sentence_scores[sent] = word_frequencies[word]\n",
    "                else:\n",
    "                    sentence_scores[sent] += word_frequencies[word]\n",
    "                    \n",
    "summary_sentences = heapq.nlargest(7, sentence_scores, key=sentence_scores.get)\n",
    "summary = \" \".join(summary_sentences)\n",
    "print(\"\\n\\n\\nEnglish Language Summary of given text is:\\n \")\n",
    "print(summary)\n",
    "# print(summary_sentences)\n",
    "for x in summary_sentences:\n",
    "    x = re.sub(r\"\\s+\", \" \", x)"
   ]
  },
  {
   "cell_type": "code",
   "execution_count": 7,
   "metadata": {},
   "outputs": [],
   "source": [
    "def translate_text(text, source_lang, target_lang):\n",
    "    translated_text = \"\"\n",
    "    length = len(text)\n",
    "    parts = [text[i:i+500] for i in (0, length, 500)]\n",
    "    for part in parts:\n",
    "        url = \"https://api.mymemory.translated.net/get\"\n",
    "        params = {\n",
    "            \"q\": part,\n",
    "            \"langpair\": f\"{source_lang}|{target_lang}\",\n",
    "        }\n",
    "        response = requests.get(url, params=params)\n",
    "        data = response.json()\n",
    "        translated_text += data[\"responseData\"][\"translatedText\"]\n",
    "    return translated_text\n"
   ]
  },
  {
   "cell_type": "code",
   "execution_count": 8,
   "metadata": {},
   "outputs": [],
   "source": [
    "query=summary\n",
    "translated=translate_text(query,\"en\",\"ne\")"
   ]
  },
  {
   "cell_type": "code",
   "execution_count": 9,
   "metadata": {},
   "outputs": [
    {
     "data": {
      "text/plain": [
       "'Wiki इन्जिनहरूले सामान्यतया सामग्रीलाई सरलीकृत मार्कअप भाषा प्रयोग गरेर लेख्न र कहिलेकाहीँ रिच-टेक्स्ट सम्पादकको मद्दतले सम्पादन गर्न अनुमति दिन्छ। त्यहाँ दर्जनौं बिभिन्न विकी इन्जिनहरू प्रयोगमा छन्, दुबै स्ट्यान्डअलोन र अन्य सफ्टवेयरको अंश, जस्तै बग ट्र्याकिङ प्रणालीहरू। विकीहरू विकी सफ्टवेयरद्वारा सक्षम हुन्छन्, अन्यथा विकी इन्जिनहरू भनिन्छ। केहीले विभिन्न प्रकार्यहरूमा नियन्त्रण गर्न अनुमति दिन्छ; उदाहरणका लागि, सम्पादन अधिकारहरूले सामग्री परिवर्तन गर्न, थप्न वा हटाउने अनुमति दिन सक्छ। अरूले लागू नगरी पहुँच अनुमति दिन सक्छन्NO QUERY SPECIFIED. EXAMPLE REQUEST: GET?Q=HELLO&LANGPAIR=EN|ITपहुँच नियन्त्रण। केही विकी इन्जिनहरू नि:शुल्क र खुला स्रोत हुन्, जबकि अरूहरू स्वामित्वमा छन्। सामग्री व्यवस्थित गर्न अन्य नियमहरू लागू गर्न सकिन्छ।'"
      ]
     },
     "execution_count": 9,
     "metadata": {},
     "output_type": "execute_result"
    }
   ],
   "source": [
    "translated"
   ]
  },
  {
   "cell_type": "code",
   "execution_count": null,
   "metadata": {},
   "outputs": [],
   "source": []
  }
 ],
 "metadata": {
  "kernelspec": {
   "display_name": "Python 3",
   "language": "python",
   "name": "python3"
  },
  "language_info": {
   "codemirror_mode": {
    "name": "ipython",
    "version": 3
   },
   "file_extension": ".py",
   "mimetype": "text/x-python",
   "name": "python",
   "nbconvert_exporter": "python",
   "pygments_lexer": "ipython3",
   "version": "3.10.2"
  },
  "orig_nbformat": 4
 },
 "nbformat": 4,
 "nbformat_minor": 2
}
