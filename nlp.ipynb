{
 "cells": [
  {
   "cell_type": "code",
   "execution_count": 3,
   "metadata": {},
   "outputs": [],
   "source": [
    "import bs4 as bs\n",
    "from urllib.request import Request, urlopen\n",
    "import re\n",
    "import requests\n",
    "import nltk\n",
    "import heapq"
   ]
  },
  {
   "cell_type": "code",
   "execution_count": 4,
   "metadata": {},
   "outputs": [],
   "source": [
    "# text_source = \"https://www.sciencedirect.com/science/article/pii/S0004370215000910\"\n",
    "#text_source = \"https://www.gutenberg.org/cache/epub/70503/pg70503-images.html\"\n",
    "#request_site = Request(text_source, headers={\"User-Agent\": \"Mozilla/5.0\"})\n",
    "#article = urlopen(request_site).read()\n",
    "#parsed_article = bs.BeautifulSoup(article, \"lxml\")\n",
    "#paragraphs = parsed_article.find_all(\"p\")\n",
    "article_text = \"In 1992, Tim Berners-Lee circulated a document titled “HTML Tags,” which outlined just 20 tags, many of which are now obsolete or have taken other forms. The first surviving tag to be defined in the document, after the crucial anchor tag, is the paragraph tag. It wasn’t until 1993 that a discussion emerged on the proposed image tag.\""
   ]
  },
  {
   "cell_type": "code",
   "execution_count": 5,
   "metadata": {},
   "outputs": [],
   "source": [
    "#for p in paragraphs:\n",
    "#    article_text += p.text\n",
    "# Remove Square Brackets and Extra Spaces\n",
    "article_text = re.sub(r\"\\[[0-9]*\\]\", \" \", article_text)\n",
    "article_text = re.sub(r\"\\s+\", \" \", article_text)"
   ]
  },
  {
   "cell_type": "code",
   "execution_count": 7,
   "metadata": {},
   "outputs": [],
   "source": [
    "# Remove special characters and digits\n",
    "formatted_article_text = re.sub(\"[^a-zA-Z]\", \" \", article_text)\n",
    "formatted_article_text = re.sub(r\"\\s+\", \" \", formatted_article_text)\n",
    "#print(\"\\n\\n\\n The source of original article used is: \\n\")\n",
    "#print(text_source)"
   ]
  },
  {
   "cell_type": "code",
   "execution_count": 8,
   "metadata": {},
   "outputs": [],
   "source": [
    "sentence_list = nltk.sent_tokenize(article_text)\n",
    "stopwords = nltk.corpus.stopwords.words(\"english\")\n",
    "word_frequencies = {}\n",
    "for word in nltk.word_tokenize(formatted_article_text):\n",
    "    if word not in stopwords:\n",
    "        if word not in word_frequencies.keys():\n",
    "            word_frequencies[word] = 1\n",
    "        else:\n",
    "            word_frequencies[word] += 1\n",
    "maximum_frequncy = max(word_frequencies.values())\n",
    "for word in word_frequencies.keys():\n",
    "    word_frequencies[word] = word_frequencies[word] / maximum_frequncy"
   ]
  },
  {
   "cell_type": "code",
   "execution_count": 9,
   "metadata": {},
   "outputs": [
    {
     "name": "stdout",
     "output_type": "stream",
     "text": [
      "\n",
      "\n",
      "\n",
      "English Language Summary of given text is:\n",
      " \n",
      "The first surviving tag to be defined in the document, after the crucial anchor tag, is the paragraph tag. In 1992, Tim Berners-Lee circulated a document titled “HTML Tags,” which outlined just 20 tags, many of which are now obsolete or have taken other forms. It wasn’t until 1993 that a discussion emerged on the proposed image tag.\n"
     ]
    }
   ],
   "source": [
    "sentence_scores = {}\n",
    "for sent in sentence_list:\n",
    "    for word in nltk.word_tokenize(sent.lower()):\n",
    "        if word in word_frequencies.keys():\n",
    "            if len(sent.split(\" \")) < 30:\n",
    "                if sent not in sentence_scores.keys():\n",
    "                    sentence_scores[sent] = word_frequencies[word]\n",
    "                else:\n",
    "                    sentence_scores[sent] += word_frequencies[word]\n",
    "                    \n",
    "summary_sentences = heapq.nlargest(7, sentence_scores, key=sentence_scores.get)\n",
    "summary = \" \".join(summary_sentences)\n",
    "print(\"\\n\\n\\nEnglish Language Summary of given text is:\\n \")\n",
    "print(summary)\n",
    "# print(summary_sentences)\n",
    "for x in summary_sentences:\n",
    "    x = re.sub(r\"\\s+\", \" \", x)"
   ]
  },
  {
   "cell_type": "code",
   "execution_count": 10,
   "metadata": {},
   "outputs": [],
   "source": [
    "def translate_text(text, source_lang, target_lang):\n",
    "    translated_text = \"\"\n",
    "    length = len(text)\n",
    "    parts = [text[i:i+500] for i in (0, length, 500)]\n",
    "    for part in parts:\n",
    "        url = \"https://api.mymemory.translated.net/get\"\n",
    "        params = {\n",
    "            \"q\": part,\n",
    "            \"langpair\": f\"{source_lang}|{target_lang}\",\n",
    "        }\n",
    "        response = requests.get(url, params=params)\n",
    "        data = response.json()\n",
    "        translated_text += data[\"responseData\"][\"translatedText\"]\n",
    "    return translated_text\n"
   ]
  },
  {
   "cell_type": "code",
   "execution_count": 11,
   "metadata": {},
   "outputs": [],
   "source": [
    "query=summary\n",
    "translated=translate_text(query,\"en\",\"ne\")"
   ]
  },
  {
   "cell_type": "code",
   "execution_count": 12,
   "metadata": {},
   "outputs": [
    {
     "data": {
      "text/plain": [
       "'कागजातमा परिभाषित गरिनु पर्ने पहिलो जीवित ट्याग, महत्त्वपूर्ण एन्कर ट्याग पछि, अनुच्छेद ट्याग हो। 1992 मा, टिम बर्नर्स-लीले &quot;HTML ट्यागहरू&quot; शीर्षकको एउटा कागजात प्रसारित गर्\\u200dयो, जसमा केवल 20 ट्यागहरू उल्लेख गरिएको थियो, जसमध्ये धेरै अहिले अप्रचलित छन् वा अन्य रूपहरू लिएका छन्। यो 1993 सम्म थिएन कि प्रस्तावित छवि ट्याग मा एक छलफल देखा पर्यो।NO QUERY SPECIFIED. EXAMPLE REQUEST: GET?Q=HELLO&LANGPAIR=EN|ITNO QUERY SPECIFIED. EXAMPLE REQUEST: GET?Q=HELLO&LANGPAIR=EN|IT'"
      ]
     },
     "execution_count": 12,
     "metadata": {},
     "output_type": "execute_result"
    }
   ],
   "source": [
    "translated"
   ]
  },
  {
   "cell_type": "code",
   "execution_count": null,
   "metadata": {},
   "outputs": [],
   "source": []
  }
 ],
 "metadata": {
  "kernelspec": {
   "display_name": "Python 3",
   "language": "python",
   "name": "python3"
  },
  "language_info": {
   "codemirror_mode": {
    "name": "ipython",
    "version": 3
   },
   "file_extension": ".py",
   "mimetype": "text/x-python",
   "name": "python",
   "nbconvert_exporter": "python",
   "pygments_lexer": "ipython3",
   "version": "3.10.2"
  },
  "orig_nbformat": 4
 },
 "nbformat": 4,
 "nbformat_minor": 2
}
